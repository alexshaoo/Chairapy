{
 "cells": [
  {
   "cell_type": "code",
   "execution_count": 342,
   "metadata": {},
   "outputs": [],
   "source": [
    "import nltk\n",
    "from nltk.stem.lancaster import LancasterStemmer\n",
    "\n",
    "stemmer = LancasterStemmer()\n",
    "\n",
    "import numpy as np \n",
    "import tflearn\n",
    "import tensorflow as tf\n",
    "import random"
   ]
  },
  {
   "cell_type": "code",
   "execution_count": 343,
   "metadata": {},
   "outputs": [],
   "source": [
    "import json\n",
    "with open('data.json') as json_data:\n",
    "    intents = json.load(json_data)\n",
    "    "
   ]
  },
  {
   "cell_type": "code",
   "execution_count": 344,
   "metadata": {},
   "outputs": [],
   "source": [
    "lines = []\n",
    "with open('./train_sentences/train_emotion.txt') as train_data:\n",
    "        lines = train_data.readlines()\n",
    "\n",
    "for line in lines:\n",
    "        str,emo = line.split(';')\n",
    "        if 'sadness' in emo: \n",
    "                if str not in intents['intents'][3]['patterns'] and len(intents['intents'][3]['patterns']) <= 400:\n",
    "                        intents['intents'][3]['patterns'].append(str)\n",
    "        if 'joy' in emo: \n",
    "                if str not in intents['intents'][4]['patterns']and len(intents['intents'][4]['patterns']) <= 400:\n",
    "                        intents['intents'][4]['patterns'].append(str)\n",
    "        if 'anger' in emo: \n",
    "                if str not in intents['intents'][5]['patterns']and len(intents['intents'][5]['patterns']) <= 400:\n",
    "                        intents['intents'][5]['patterns'].append(str)\n",
    "        if 'fear' in emo: \n",
    "                if str not in intents['intents'][6]['patterns']and len(intents['intents'][6]['patterns']) <= 400:\n",
    "                        intents['intents'][6]['patterns'].append(str)\n"
   ]
  },
  {
   "cell_type": "code",
   "execution_count": 345,
   "metadata": {},
   "outputs": [],
   "source": [
    "lines = []\n",
    "with open('./train_sentences/train_greet.txt') as train_data:\n",
    "        lines = train_data.readlines()\n",
    "\n",
    "for line in lines:\n",
    "        if line not in intents['intents'][0]['patterns']:\n",
    "            intents['intents'][0]['patterns'].append(line)\n",
    "\n",
    "lines = []\n",
    "with open('./train_sentences/train_bye.txt') as train_data:\n",
    "        lines = train_data.readlines()\n",
    "\n",
    "for line in lines:\n",
    "        if line not in intents['intents'][1]['patterns']:\n",
    "            intents['intents'][1]['patterns'].append(line)\n",
    "\n",
    "lines = []\n",
    "with open('./train_sentences/train_thanks.txt') as train_data:\n",
    "        lines = train_data.readlines()\n",
    "\n",
    "for line in lines:\n",
    "        if line not in intents['intents'][2]['patterns']:\n",
    "            intents['intents'][2]['patterns'].append(line)\n",
    "\n",
    "\n",
    "with open('data2.json', 'w') as outfile:\n",
    "        json.dump(intents, outfile)\n"
   ]
  },
  {
   "cell_type": "code",
   "execution_count": 346,
   "metadata": {},
   "outputs": [],
   "source": [
    "with open('data2.json') as json_data:\n",
    "    intents = json.load(json_data)"
   ]
  },
  {
   "cell_type": "code",
   "execution_count": 347,
   "metadata": {},
   "outputs": [
    {
     "name": "stderr",
     "output_type": "stream",
     "text": [
      "[nltk_data] Downloading package punkt to\n",
      "[nltk_data]     C:\\Users\\bz88k\\AppData\\Roaming\\nltk_data...\n",
      "[nltk_data]   Package punkt is already up-to-date!\n"
     ]
    },
    {
     "data": {
      "text/plain": [
       "True"
      ]
     },
     "execution_count": 347,
     "metadata": {},
     "output_type": "execute_result"
    }
   ],
   "source": [
    "nltk.download('punkt')"
   ]
  },
  {
   "cell_type": "code",
   "execution_count": 348,
   "metadata": {},
   "outputs": [],
   "source": [
    "words = []\n",
    "classes = []\n",
    "documents = []\n",
    "\n",
    "ignore_words = ['?']\n",
    "\n",
    "for intent in intents['intents']:\n",
    "    for pattern in intent['patterns']:\n",
    "        #tokenize words\n",
    "        w = nltk.word_tokenize(pattern) \n",
    "         #add to words list\n",
    "        words.extend(w)\n",
    "         #add to documents\n",
    "        documents.append((w,intent['tag']))\n",
    "         #add to classes list\n",
    "        if intent['tag'] not in classes:\n",
    "            classes.append(intent['tag'])\n",
    "\n",
    "#stem and lower each word and remove duplicates\n",
    "\n",
    "words = [stemmer.stem(w.lower()) for w in words if w not in ignore_words]\n",
    "words = sorted(list(set(words)))\n",
    "\n",
    "#remove duplicates\n",
    "classes = sorted(list(set(classes)))\n",
    "\n",
    "# print(len(documents), \"documents\")\n",
    "# print(len(classes), \"classes\", classes)\n",
    "# print(len(words), \"unique stemmed words\", words)\n"
   ]
  },
  {
   "cell_type": "code",
   "execution_count": 349,
   "metadata": {},
   "outputs": [
    {
     "name": "stderr",
     "output_type": "stream",
     "text": [
      "C:\\Users\\bz88k\\AppData\\Local\\Temp/ipykernel_17376/1583013068.py:20: VisibleDeprecationWarning: Creating an ndarray from ragged nested sequences (which is a list-or-tuple of lists-or-tuples-or ndarrays with different lengths or shapes) is deprecated. If you meant to do this, you must specify 'dtype=object' when creating the ndarray.\n",
      "  training = np.array(training)\n"
     ]
    }
   ],
   "source": [
    "training = []\n",
    "outputt = []\n",
    "\n",
    "#create an empty array for output\n",
    "output_empty = [0] * len(classes)\n",
    "\n",
    "#training set, BOW for each sentence\n",
    "for doc in documents:\n",
    "    bag = []\n",
    "    pattern_words = doc[0]\n",
    "    pattern_words = [stemmer.stem(word.lower()) for word in pattern_words]\n",
    "    for w in words:\n",
    "        bag.append(1) if w in pattern_words else bag.append(0)\n",
    "    \n",
    "    output_row = list(output_empty)\n",
    "    output_row[classes.index(doc[1])] = 1\n",
    "    training.append([bag, output_row])\n",
    "\n",
    "random.shuffle(training)\n",
    "training = np.array(training)\n",
    "\n",
    "train_x = list(training[:,0])\n",
    "train_y = list(training[:,1])\n"
   ]
  },
  {
   "cell_type": "code",
   "execution_count": 350,
   "metadata": {},
   "outputs": [
    {
     "name": "stdout",
     "output_type": "stream",
     "text": [
      "Training Step: 6689  | total loss: \u001b[1m\u001b[32m1.44869\u001b[0m\u001b[0m | time: 0.364s\n",
      "| Adam | epoch: 030 | loss: 1.44869 - acc: 0.9134 -- iter: 1776/1781\n",
      "Training Step: 6690  | total loss: \u001b[1m\u001b[32m1.30496\u001b[0m\u001b[0m | time: 0.366s\n",
      "| Adam | epoch: 030 | loss: 1.30496 - acc: 0.9220 -- iter: 1781/1781\n",
      "--\n",
      "INFO:tensorflow:d:\\Waterloo Assignments\\SE101\\Chairapy\\Chat\\model.tflearn is not in all_model_checkpoint_paths. Manually adding it.\n"
     ]
    }
   ],
   "source": [
    "tf.compat.v1.reset_default_graph() \n",
    "\n",
    "net = tflearn.input_data(shape=[None, len(train_x[0])])\n",
    "net = tflearn.fully_connected(net, 8)\n",
    "net = tflearn.fully_connected(net, 8)\n",
    "net = tflearn.fully_connected(net, len(train_y[0]), activation = 'softmax')\n",
    "net = tflearn.regression(net)\n",
    "\n",
    "model = tflearn.DNN(net, tensorboard_dir = 'tflearn_logs')\n",
    "model.fit(train_x, train_y, n_epoch = 30, batch_size = 8, show_metric = True)\n",
    "model.save('./model.tflearn')"
   ]
  },
  {
   "cell_type": "code",
   "execution_count": 351,
   "metadata": {},
   "outputs": [],
   "source": [
    "def clean_up_sentence(sentence):\n",
    "    # tokenize the pattern\n",
    "    sentence_words = nltk.word_tokenize(sentence)\n",
    "    # stem each word\n",
    "    sentence_words = [stemmer.stem(word.lower()) for word in sentence_words]\n",
    "    return sentence_words\n",
    "\n",
    "# return bag of words array: 0 or 1 for each word in the bag that exists in the sentence\n",
    "def bow(sentence, words, show_details=False):\n",
    "    # tokenize the pattern\n",
    "    sentence_words = clean_up_sentence(sentence)\n",
    "    # bag of words\n",
    "    bag = [0]*len(words)  \n",
    "    for s in sentence_words:\n",
    "        for i,w in enumerate(words):\n",
    "            if w == s: \n",
    "                bag[i] = 1\n",
    "                if show_details:\n",
    "                    print (\"found in bag: %s\" % w)\n",
    "\n",
    "    return(np.array(bag))"
   ]
  },
  {
   "cell_type": "code",
   "execution_count": 352,
   "metadata": {},
   "outputs": [
    {
     "name": "stdout",
     "output_type": "stream",
     "text": [
      "[0 0 0 ... 0 0 0]\n",
      "['anger', 'fear', 'goodbye', 'greeting', 'joy', 'sad', 'thanks']\n"
     ]
    }
   ],
   "source": [
    "p = bow(\"is your shop open today?\", words)\n",
    "print (p)\n",
    "print (classes)"
   ]
  },
  {
   "cell_type": "code",
   "execution_count": 353,
   "metadata": {},
   "outputs": [
    {
     "name": "stdout",
     "output_type": "stream",
     "text": [
      "[[6.7762768e-01 3.3444486e-10 1.0761922e-04 2.6702943e-01 6.8534985e-07\n",
      "  4.1336715e-03 5.1100872e-02]]\n"
     ]
    }
   ],
   "source": [
    "print(model.predict([p]))"
   ]
  },
  {
   "cell_type": "code",
   "execution_count": 354,
   "metadata": {},
   "outputs": [],
   "source": [
    "import pickle\n",
    "pickle.dump( {'words':words, 'classes':classes, 'train_x':train_x, 'train_y':train_y}, open( \"training_data\", \"wb\" ) )"
   ]
  },
  {
   "cell_type": "code",
   "execution_count": 355,
   "metadata": {},
   "outputs": [],
   "source": [
    "ERROR_THRESHOLD = 0.25\n",
    "def classify(sentence):\n",
    "    # generate probabilities from the model\n",
    "    results = model.predict([bow(sentence, words)])[0]\n",
    "    # filter out predictions below a threshold\n",
    "    results = [[i,r] for i,r in enumerate(results) if r>ERROR_THRESHOLD]\n",
    "    # sort by strength of probability\n",
    "    results.sort(key=lambda x: x[1], reverse=True)\n",
    "    return_list = []\n",
    "    for r in results:\n",
    "        return_list.append((classes[r[0]], r[1]))\n",
    "    # return tuple of intent and probability\n",
    "    return return_list\n",
    "\n",
    "def response(sentence, userID='123', show_details=False):\n",
    "    results = classify(sentence)\n",
    "    # if we have a classification then find the matching intent tag\n",
    "    if results:\n",
    "        # loop as long as there are matches to process\n",
    "        while results:\n",
    "            for i in intents['intents']:\n",
    "                # find a tag matching the first result\n",
    "                if i['tag'] == results[0][0]:\n",
    "                    # a random response from the intent\n",
    "                    return print(random.choice(i['responses']))\n",
    "\n",
    "            results.pop(0)"
   ]
  },
  {
   "cell_type": "code",
   "execution_count": 357,
   "metadata": {},
   "outputs": [
    {
     "name": "stdout",
     "output_type": "stream",
     "text": [
      "[insert response for anger]\n",
      "None\n"
     ]
    }
   ],
   "source": [
    "s = input()\n",
    "print(response(s))"
   ]
  },
  {
   "cell_type": "code",
   "execution_count": null,
   "metadata": {},
   "outputs": [],
   "source": []
  },
  {
   "cell_type": "code",
   "execution_count": null,
   "metadata": {},
   "outputs": [],
   "source": []
  }
 ],
 "metadata": {
  "interpreter": {
   "hash": "ac884b98e3ba18ee58bd9b133d06cc4a2b008bfa0949eee2ad76641e1b069286"
  },
  "kernelspec": {
   "display_name": "Python 3.9.7 64-bit ('chairapy_env': venv)",
   "language": "python",
   "name": "python3"
  },
  "language_info": {
   "codemirror_mode": {
    "name": "ipython",
    "version": 3
   },
   "file_extension": ".py",
   "mimetype": "text/x-python",
   "name": "python",
   "nbconvert_exporter": "python",
   "pygments_lexer": "ipython3",
   "version": "3.9.7"
  },
  "orig_nbformat": 4
 },
 "nbformat": 4,
 "nbformat_minor": 2
}
