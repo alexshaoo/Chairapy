{
 "cells": [
  {
   "cell_type": "code",
   "execution_count": 2,
   "metadata": {},
   "outputs": [],
   "source": [
    "import numpy as np\n",
    "import os\n",
    "import pandas as pd\n",
    "\n",
    "from tflite_model_maker import model_spec\n",
    "from tflite_model_maker import text_classifier\n",
    "from tflite_model_maker .config import ExportFormat\n",
    "from tflite_model_maker .text_classifier import AverageWordVecSpec\n",
    "from tflite_model_maker .text_classifier import DataLoader\n",
    "\n",
    "import tensorflow as tf\n",
    "assert tf.__version__.startswith('2')\n",
    "tf.get_logger().setLevel('ERROR')"
   ]
  },
  {
   "cell_type": "code",
   "execution_count": 3,
   "metadata": {},
   "outputs": [
    {
     "name": "stdout",
     "output_type": "stream",
     "text": [
      "0\n"
     ]
    }
   ],
   "source": [
    "import tensorflow as tf\n",
    "\n",
    "print(len(tf.config.list_physical_devices('GPU')))"
   ]
  },
  {
   "cell_type": "code",
   "execution_count": 4,
   "metadata": {},
   "outputs": [
    {
     "name": "stdout",
     "output_type": "stream",
     "text": [
      "joy        11045\n",
      "sadness     6722\n",
      "fear        5410\n",
      "anger       4297\n",
      "neutral     2254\n",
      "Name: Emotion, dtype: int64\n",
      "joy        11045\n",
      "sadness     6722\n",
      "fear        5410\n",
      "anger       4297\n",
      "neutral     2254\n",
      "Name: Emotion, dtype: int64\n"
     ]
    },
    {
     "data": {
      "text/html": [
       "<div>\n",
       "<style scoped>\n",
       "    .dataframe tbody tr th:only-of-type {\n",
       "        vertical-align: middle;\n",
       "    }\n",
       "\n",
       "    .dataframe tbody tr th {\n",
       "        vertical-align: top;\n",
       "    }\n",
       "\n",
       "    .dataframe thead th {\n",
       "        text-align: right;\n",
       "    }\n",
       "</style>\n",
       "<table border=\"1\" class=\"dataframe\">\n",
       "  <thead>\n",
       "    <tr style=\"text-align: right;\">\n",
       "      <th></th>\n",
       "      <th>Emotion</th>\n",
       "      <th>Clean_Text</th>\n",
       "    </tr>\n",
       "  </thead>\n",
       "  <tbody>\n",
       "    <tr>\n",
       "      <th>0</th>\n",
       "      <td>neutral</td>\n",
       "      <td>NaN</td>\n",
       "    </tr>\n",
       "    <tr>\n",
       "      <th>1</th>\n",
       "      <td>joy</td>\n",
       "      <td>sage act upgrade list tommorow</td>\n",
       "    </tr>\n",
       "    <tr>\n",
       "      <th>2</th>\n",
       "      <td>sadness</td>\n",
       "      <td>way homegirl baby funeral man hate funerals sh...</td>\n",
       "    </tr>\n",
       "    <tr>\n",
       "      <th>3</th>\n",
       "      <td>joy</td>\n",
       "      <td>eye  true hazel eyeand brilliant  regular feat...</td>\n",
       "    </tr>\n",
       "    <tr>\n",
       "      <th>4</th>\n",
       "      <td>joy</td>\n",
       "      <td>ugh babe hugggzzz u  babe naamazed nga ako e...</td>\n",
       "    </tr>\n",
       "  </tbody>\n",
       "</table>\n",
       "</div>"
      ],
      "text/plain": [
       "   Emotion                                         Clean_Text\n",
       "0  neutral                                                NaN\n",
       "1      joy                     sage act upgrade list tommorow\n",
       "2  sadness  way homegirl baby funeral man hate funerals sh...\n",
       "3      joy  eye  true hazel eyeand brilliant  regular feat...\n",
       "4      joy    ugh babe hugggzzz u  babe naamazed nga ako e..."
      ]
     },
     "execution_count": 4,
     "metadata": {},
     "output_type": "execute_result"
    }
   ],
   "source": [
    "df = pd.read_csv('emotion_dataset.csv')\n",
    "\n",
    "label_map = {0: 'neutral', 1: 'joy', 2: 'sadness', 3: 'angry', 4:'fear'}\n",
    "\n",
    "df = df.loc[ (df['Emotion'] == 'sadness') | (df['Emotion'] =='fear') | (df['Emotion'] == 'anger')| (df['Emotion'] == 'joy')| (df['Emotion'] == 'neutral')]\n",
    "print(df['Emotion'].value_counts())\n",
    "#df=df.drop(df.query(\"Emotion == 'joy'\").sample(frac = 0.5).index)\n",
    "print(df['Emotion'].value_counts())\n",
    "df=df.drop(['Text', 'Unnamed: 0'], axis = 1)\n",
    "df['Clean_Text'] = df['Clean_Text'].str.lower()\n",
    "df.head()\n",
    "\n"
   ]
  },
  {
   "cell_type": "code",
   "execution_count": 5,
   "metadata": {},
   "outputs": [],
   "source": [
    "train = df.sample(frac = 0.8, random_state = 42)\n",
    "test = df.loc[~df.index.isin(train.index)]"
   ]
  },
  {
   "cell_type": "code",
   "execution_count": 6,
   "metadata": {},
   "outputs": [],
   "source": [
    "train.to_csv('train.csv')\n",
    "test.to_csv('test.csv')"
   ]
  },
  {
   "cell_type": "code",
   "execution_count": 8,
   "metadata": {},
   "outputs": [],
   "source": [
    "spec = model_spec.get('average_word_vec')\n",
    "train_data = DataLoader.from_csv(filename = 'train.csv', text_column = 'Clean_Text', label_column = 'Emotion', model_spec = spec, is_training = True)\n",
    "test_data = DataLoader.from_csv(filename = 'test.csv', text_column = 'Clean_Text', label_column = 'Emotion', model_spec = spec, is_training = False)\n"
   ]
  },
  {
   "cell_type": "code",
   "execution_count": null,
   "metadata": {},
   "outputs": [],
   "source": [
    "import tflite_model_maker\n",
    "tflite_model_maker.config.QuantizationConfig(inference_input_type=tf.float32, inference_output_type=tf.float32)"
   ]
  },
  {
   "cell_type": "code",
   "execution_count": 9,
   "metadata": {},
   "outputs": [
    {
     "name": "stdout",
     "output_type": "stream",
     "text": [
      "Epoch 1/80\n",
      "743/743 [==============================] - 1s 1ms/step - loss: 1.5027 - accuracy: 0.3686\n",
      "Epoch 2/80\n",
      "743/743 [==============================] - 1s 1ms/step - loss: 1.4906 - accuracy: 0.3695\n",
      "Epoch 3/80\n",
      "743/743 [==============================] - 1s 1ms/step - loss: 1.4744 - accuracy: 0.3700\n",
      "Epoch 4/80\n",
      "743/743 [==============================] - 1s 1ms/step - loss: 1.4349 - accuracy: 0.3856\n",
      "Epoch 5/80\n",
      "743/743 [==============================] - 1s 1ms/step - loss: 1.3677 - accuracy: 0.4269\n",
      "Epoch 6/80\n",
      "743/743 [==============================] - 1s 1ms/step - loss: 1.3044 - accuracy: 0.4497\n",
      "Epoch 7/80\n",
      "743/743 [==============================] - 1s 1ms/step - loss: 1.2512 - accuracy: 0.4815\n",
      "Epoch 8/80\n",
      "743/743 [==============================] - 1s 1ms/step - loss: 1.2071 - accuracy: 0.5154\n",
      "Epoch 9/80\n",
      "743/743 [==============================] - 1s 1ms/step - loss: 1.1676 - accuracy: 0.5348\n",
      "Epoch 10/80\n",
      "743/743 [==============================] - 1s 1ms/step - loss: 1.1297 - accuracy: 0.5536\n",
      "Epoch 11/80\n",
      "743/743 [==============================] - 1s 1ms/step - loss: 1.1007 - accuracy: 0.5779\n",
      "Epoch 12/80\n",
      "743/743 [==============================] - 1s 1ms/step - loss: 1.0677 - accuracy: 0.5958\n",
      "Epoch 13/80\n",
      "743/743 [==============================] - 1s 1ms/step - loss: 1.0470 - accuracy: 0.6080\n",
      "Epoch 14/80\n",
      "743/743 [==============================] - 1s 1ms/step - loss: 1.0259 - accuracy: 0.6220\n",
      "Epoch 15/80\n",
      "743/743 [==============================] - 1s 1ms/step - loss: 1.0040 - accuracy: 0.6373\n",
      "Epoch 16/80\n",
      "743/743 [==============================] - 1s 1ms/step - loss: 0.9831 - accuracy: 0.6546\n",
      "Epoch 17/80\n",
      "743/743 [==============================] - 1s 1ms/step - loss: 0.9612 - accuracy: 0.6685\n",
      "Epoch 18/80\n",
      "743/743 [==============================] - 1s 1ms/step - loss: 0.9465 - accuracy: 0.6745\n",
      "Epoch 19/80\n",
      "743/743 [==============================] - 1s 1ms/step - loss: 0.9317 - accuracy: 0.6835\n",
      "Epoch 20/80\n",
      "743/743 [==============================] - 1s 1ms/step - loss: 0.9158 - accuracy: 0.6880\n",
      "Epoch 21/80\n",
      "743/743 [==============================] - 1s 1ms/step - loss: 0.8979 - accuracy: 0.6935\n",
      "Epoch 22/80\n",
      "743/743 [==============================] - 1s 1ms/step - loss: 0.8890 - accuracy: 0.6993\n",
      "Epoch 23/80\n",
      "743/743 [==============================] - 1s 1ms/step - loss: 0.8784 - accuracy: 0.7031\n",
      "Epoch 24/80\n",
      "743/743 [==============================] - 1s 1ms/step - loss: 0.8673 - accuracy: 0.7092\n",
      "Epoch 25/80\n",
      "743/743 [==============================] - 1s 1ms/step - loss: 0.8568 - accuracy: 0.7117\n",
      "Epoch 26/80\n",
      "743/743 [==============================] - 1s 1ms/step - loss: 0.8457 - accuracy: 0.7133\n",
      "Epoch 27/80\n",
      "743/743 [==============================] - 1s 1ms/step - loss: 0.8377 - accuracy: 0.7143\n",
      "Epoch 28/80\n",
      "743/743 [==============================] - 1s 1ms/step - loss: 0.8347 - accuracy: 0.7161\n",
      "Epoch 29/80\n",
      "743/743 [==============================] - 1s 1ms/step - loss: 0.8249 - accuracy: 0.7225\n",
      "Epoch 30/80\n",
      "743/743 [==============================] - 1s 1ms/step - loss: 0.8164 - accuracy: 0.7227\n",
      "Epoch 31/80\n",
      "743/743 [==============================] - 1s 1ms/step - loss: 0.8123 - accuracy: 0.7253\n",
      "Epoch 32/80\n",
      "743/743 [==============================] - 1s 2ms/step - loss: 0.8077 - accuracy: 0.7279\n",
      "Epoch 33/80\n",
      "743/743 [==============================] - 1s 1ms/step - loss: 0.7964 - accuracy: 0.7309\n",
      "Epoch 34/80\n",
      "743/743 [==============================] - 1s 1ms/step - loss: 0.7924 - accuracy: 0.7300\n",
      "Epoch 35/80\n",
      "743/743 [==============================] - 1s 2ms/step - loss: 0.7881 - accuracy: 0.7355\n",
      "Epoch 36/80\n",
      "743/743 [==============================] - 1s 1ms/step - loss: 0.7834 - accuracy: 0.7343\n",
      "Epoch 37/80\n",
      "743/743 [==============================] - 1s 1ms/step - loss: 0.7796 - accuracy: 0.7382\n",
      "Epoch 38/80\n",
      "743/743 [==============================] - 1s 1ms/step - loss: 0.7751 - accuracy: 0.7417\n",
      "Epoch 39/80\n",
      "743/743 [==============================] - 1s 1ms/step - loss: 0.7733 - accuracy: 0.7391\n",
      "Epoch 40/80\n",
      "743/743 [==============================] - 1s 1ms/step - loss: 0.7699 - accuracy: 0.7435\n",
      "Epoch 41/80\n",
      "743/743 [==============================] - 1s 1ms/step - loss: 0.7649 - accuracy: 0.7435\n",
      "Epoch 42/80\n",
      "743/743 [==============================] - 1s 1ms/step - loss: 0.7605 - accuracy: 0.7452\n",
      "Epoch 43/80\n",
      "743/743 [==============================] - 1s 1ms/step - loss: 0.7576 - accuracy: 0.7455\n",
      "Epoch 44/80\n",
      "743/743 [==============================] - 1s 1ms/step - loss: 0.7535 - accuracy: 0.7455\n",
      "Epoch 45/80\n",
      "743/743 [==============================] - 1s 1ms/step - loss: 0.7490 - accuracy: 0.7493\n",
      "Epoch 46/80\n",
      "743/743 [==============================] - 1s 1ms/step - loss: 0.7500 - accuracy: 0.7481\n",
      "Epoch 47/80\n",
      "743/743 [==============================] - 1s 1ms/step - loss: 0.7462 - accuracy: 0.7491\n",
      "Epoch 48/80\n",
      "743/743 [==============================] - 1s 1ms/step - loss: 0.7407 - accuracy: 0.7537\n",
      "Epoch 49/80\n",
      "743/743 [==============================] - 1s 1ms/step - loss: 0.7390 - accuracy: 0.7545\n",
      "Epoch 50/80\n",
      "743/743 [==============================] - 1s 1ms/step - loss: 0.7346 - accuracy: 0.7556\n",
      "Epoch 51/80\n",
      "743/743 [==============================] - 1s 1ms/step - loss: 0.7368 - accuracy: 0.7576\n",
      "Epoch 52/80\n",
      "743/743 [==============================] - 1s 1ms/step - loss: 0.7299 - accuracy: 0.7576\n",
      "Epoch 53/80\n",
      "743/743 [==============================] - 1s 1ms/step - loss: 0.7260 - accuracy: 0.7580\n",
      "Epoch 54/80\n",
      "743/743 [==============================] - 1s 1ms/step - loss: 0.7282 - accuracy: 0.7559\n",
      "Epoch 55/80\n",
      "743/743 [==============================] - 1s 1ms/step - loss: 0.7264 - accuracy: 0.7585\n",
      "Epoch 56/80\n",
      "743/743 [==============================] - 1s 1ms/step - loss: 0.7232 - accuracy: 0.7622\n",
      "Epoch 57/80\n",
      "743/743 [==============================] - 1s 1ms/step - loss: 0.7196 - accuracy: 0.7643\n",
      "Epoch 58/80\n",
      "743/743 [==============================] - 1s 1ms/step - loss: 0.7151 - accuracy: 0.7619\n",
      "Epoch 59/80\n",
      "743/743 [==============================] - 1s 1ms/step - loss: 0.7165 - accuracy: 0.7635\n",
      "Epoch 60/80\n",
      "743/743 [==============================] - 1s 1ms/step - loss: 0.7149 - accuracy: 0.7629\n",
      "Epoch 61/80\n",
      "743/743 [==============================] - 1s 1ms/step - loss: 0.7096 - accuracy: 0.7640\n",
      "Epoch 62/80\n",
      "743/743 [==============================] - 1s 1ms/step - loss: 0.7107 - accuracy: 0.7663\n",
      "Epoch 63/80\n",
      "743/743 [==============================] - 1s 1ms/step - loss: 0.7087 - accuracy: 0.7661\n",
      "Epoch 64/80\n",
      "743/743 [==============================] - 1s 1ms/step - loss: 0.7087 - accuracy: 0.7667\n",
      "Epoch 65/80\n",
      "743/743 [==============================] - 1s 1ms/step - loss: 0.7048 - accuracy: 0.7680\n",
      "Epoch 66/80\n",
      "743/743 [==============================] - 1s 1ms/step - loss: 0.7007 - accuracy: 0.7693\n",
      "Epoch 67/80\n",
      "743/743 [==============================] - 1s 1ms/step - loss: 0.6993 - accuracy: 0.7691\n",
      "Epoch 68/80\n",
      "743/743 [==============================] - 1s 1ms/step - loss: 0.6978 - accuracy: 0.7701\n",
      "Epoch 69/80\n",
      "743/743 [==============================] - 1s 1ms/step - loss: 0.6993 - accuracy: 0.7696\n",
      "Epoch 70/80\n",
      "743/743 [==============================] - 1s 1ms/step - loss: 0.6953 - accuracy: 0.7734\n",
      "Epoch 71/80\n",
      "743/743 [==============================] - 1s 1ms/step - loss: 0.6940 - accuracy: 0.7721\n",
      "Epoch 72/80\n",
      "743/743 [==============================] - 1s 1ms/step - loss: 0.6892 - accuracy: 0.7741\n",
      "Epoch 73/80\n",
      "743/743 [==============================] - 1s 1ms/step - loss: 0.6861 - accuracy: 0.7736\n",
      "Epoch 74/80\n",
      "743/743 [==============================] - 1s 1ms/step - loss: 0.6845 - accuracy: 0.7740\n",
      "Epoch 75/80\n",
      "743/743 [==============================] - 1s 1ms/step - loss: 0.6861 - accuracy: 0.7749\n",
      "Epoch 76/80\n",
      "743/743 [==============================] - 1s 1ms/step - loss: 0.6849 - accuracy: 0.7758\n",
      "Epoch 77/80\n",
      "743/743 [==============================] - 1s 1ms/step - loss: 0.6819 - accuracy: 0.7773\n",
      "Epoch 78/80\n",
      "743/743 [==============================] - 1s 1ms/step - loss: 0.6827 - accuracy: 0.7763\n",
      "Epoch 79/80\n",
      "743/743 [==============================] - 1s 1ms/step - loss: 0.6814 - accuracy: 0.7784\n",
      "Epoch 80/80\n",
      "743/743 [==============================] - 1s 1ms/step - loss: 0.6793 - accuracy: 0.7781\n"
     ]
    }
   ],
   "source": [
    "model = text_classifier.create(train_data, model_spec = spec, epochs = 80)"
   ]
  },
  {
   "cell_type": "code",
   "execution_count": 10,
   "metadata": {},
   "outputs": [
    {
     "name": "stdout",
     "output_type": "stream",
     "text": [
      "186/186 [==============================] - 1s 4ms/step - loss: 0.9605 - accuracy: 0.6749\n"
     ]
    }
   ],
   "source": [
    "loss, acc = model.evaluate(test_data)"
   ]
  },
  {
   "cell_type": "code",
   "execution_count": 12,
   "metadata": {},
   "outputs": [
    {
     "name": "stdout",
     "output_type": "stream",
     "text": [
      "<class 'tensorflow_examples.lite.model_maker.core.data_util.text_dataloader.TextClassifierDataLoader'>\n",
      "{'_dataset': <ParallelMapDataset shapes: ((256,), ()), types: (tf.int32, tf.int32)>, '_size': 23782, 'index_to_label': ['anger', 'fear', 'joy', 'neutral', 'sadness']}\n"
     ]
    },
    {
     "ename": "TypeError",
     "evalue": "'TextClassifierDataLoader' object is not subscriptable",
     "output_type": "error",
     "traceback": [
      "\u001b[1;31m---------------------------------------------------------------------------\u001b[0m",
      "\u001b[1;31mTypeError\u001b[0m                                 Traceback (most recent call last)",
      "\u001b[1;32m~\\AppData\\Local\\Temp/ipykernel_13164/2830173076.py\u001b[0m in \u001b[0;36m<module>\u001b[1;34m\u001b[0m\n\u001b[0;32m      1\u001b[0m \u001b[0mprint\u001b[0m\u001b[1;33m(\u001b[0m\u001b[0mtype\u001b[0m\u001b[1;33m(\u001b[0m\u001b[0mtrain_data\u001b[0m\u001b[1;33m)\u001b[0m\u001b[1;33m)\u001b[0m\u001b[1;33m\u001b[0m\u001b[1;33m\u001b[0m\u001b[0m\n\u001b[0;32m      2\u001b[0m \u001b[0mprint\u001b[0m\u001b[1;33m(\u001b[0m\u001b[0mvars\u001b[0m\u001b[1;33m(\u001b[0m\u001b[0mtrain_data\u001b[0m\u001b[1;33m)\u001b[0m\u001b[1;33m)\u001b[0m\u001b[1;33m\u001b[0m\u001b[1;33m\u001b[0m\u001b[0m\n\u001b[1;32m----> 3\u001b[1;33m \u001b[0mprint\u001b[0m\u001b[1;33m(\u001b[0m\u001b[0mtrain_data\u001b[0m\u001b[1;33m[\u001b[0m\u001b[1;36m0\u001b[0m\u001b[1;33m]\u001b[0m\u001b[1;33m)\u001b[0m\u001b[1;33m\u001b[0m\u001b[1;33m\u001b[0m\u001b[0m\n\u001b[0m\u001b[0;32m      4\u001b[0m \u001b[0mprint\u001b[0m\u001b[1;33m(\u001b[0m\u001b[0mtest_data\u001b[0m\u001b[1;33m[\u001b[0m\u001b[1;36m0\u001b[0m\u001b[1;33m]\u001b[0m\u001b[1;33m)\u001b[0m\u001b[1;33m\u001b[0m\u001b[1;33m\u001b[0m\u001b[0m\n",
      "\u001b[1;31mTypeError\u001b[0m: 'TextClassifierDataLoader' object is not subscriptable"
     ]
    }
   ],
   "source": [
    "print(type(train_data))\n",
    "print(vars(train_data))\n",
    "print(train_data[0])\n",
    "print(test_data[0])"
   ]
  }
 ],
 "metadata": {
  "interpreter": {
   "hash": "ac884b98e3ba18ee58bd9b133d06cc4a2b008bfa0949eee2ad76641e1b069286"
  },
  "kernelspec": {
   "display_name": "Python 3.9.7 64-bit ('chairapy_env': venv)",
   "language": "python",
   "name": "python3"
  },
  "language_info": {
   "codemirror_mode": {
    "name": "ipython",
    "version": 3
   },
   "file_extension": ".py",
   "mimetype": "text/x-python",
   "name": "python",
   "nbconvert_exporter": "python",
   "pygments_lexer": "ipython3",
   "version": "3.9.7"
  },
  "orig_nbformat": 4
 },
 "nbformat": 4,
 "nbformat_minor": 2
}
